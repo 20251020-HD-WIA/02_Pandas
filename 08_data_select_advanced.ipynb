{
 "cells": [
  {
   "cell_type": "markdown",
   "id": "9ca123f9",
   "metadata": {},
   "source": [
    "# 8. iloc와 loc\n",
    "---"
   ]
  },
  {
   "cell_type": "code",
   "execution_count": 2,
   "id": "799af277",
   "metadata": {},
   "outputs": [
    {
     "data": {
      "text/html": [
       "<div>\n",
       "<style scoped>\n",
       "    .dataframe tbody tr th:only-of-type {\n",
       "        vertical-align: middle;\n",
       "    }\n",
       "\n",
       "    .dataframe tbody tr th {\n",
       "        vertical-align: top;\n",
       "    }\n",
       "\n",
       "    .dataframe thead th {\n",
       "        text-align: right;\n",
       "    }\n",
       "</style>\n",
       "<table border=\"1\" class=\"dataframe\">\n",
       "  <thead>\n",
       "    <tr style=\"text-align: right;\">\n",
       "      <th></th>\n",
       "      <th>고객명</th>\n",
       "      <th>나이</th>\n",
       "      <th>거주도시</th>\n",
       "      <th>주요관심사</th>\n",
       "      <th>최근1년_방문빈도</th>\n",
       "      <th>평균구매액(만원)</th>\n",
       "      <th>고객만족도(점)</th>\n",
       "      <th>재구매의사(점)</th>\n",
       "    </tr>\n",
       "    <tr>\n",
       "      <th>고객ID</th>\n",
       "      <th></th>\n",
       "      <th></th>\n",
       "      <th></th>\n",
       "      <th></th>\n",
       "      <th></th>\n",
       "      <th></th>\n",
       "      <th></th>\n",
       "      <th></th>\n",
       "    </tr>\n",
       "  </thead>\n",
       "  <tbody>\n",
       "    <tr>\n",
       "      <th>C001</th>\n",
       "      <td>박태근</td>\n",
       "      <td>35</td>\n",
       "      <td>시흥</td>\n",
       "      <td>Electronics</td>\n",
       "      <td>75</td>\n",
       "      <td>70</td>\n",
       "      <td>78</td>\n",
       "      <td>92</td>\n",
       "    </tr>\n",
       "    <tr>\n",
       "      <th>C002</th>\n",
       "      <td>이영희</td>\n",
       "      <td>30</td>\n",
       "      <td>안양</td>\n",
       "      <td>fashion</td>\n",
       "      <td>85</td>\n",
       "      <td>92</td>\n",
       "      <td>88</td>\n",
       "      <td>85</td>\n",
       "    </tr>\n",
       "    <tr>\n",
       "      <th>C003</th>\n",
       "      <td>박지성</td>\n",
       "      <td>35</td>\n",
       "      <td>울산</td>\n",
       "      <td>NaN</td>\n",
       "      <td>95</td>\n",
       "      <td>110</td>\n",
       "      <td>91</td>\n",
       "      <td>88</td>\n",
       "    </tr>\n",
       "    <tr>\n",
       "      <th>C004</th>\n",
       "      <td>최민아</td>\n",
       "      <td>40</td>\n",
       "      <td>창원</td>\n",
       "      <td>Fashion</td>\n",
       "      <td>92</td>\n",
       "      <td>105</td>\n",
       "      <td>82</td>\n",
       "      <td>96</td>\n",
       "    </tr>\n",
       "    <tr>\n",
       "      <th>C005</th>\n",
       "      <td>정수빈</td>\n",
       "      <td>28</td>\n",
       "      <td>구로</td>\n",
       "      <td>Fashion</td>\n",
       "      <td>82</td>\n",
       "      <td>88</td>\n",
       "      <td>94</td>\n",
       "      <td>79</td>\n",
       "    </tr>\n",
       "    <tr>\n",
       "      <th>C006</th>\n",
       "      <td>윤태영</td>\n",
       "      <td>27</td>\n",
       "      <td>시흥</td>\n",
       "      <td>Electronics</td>\n",
       "      <td>88</td>\n",
       "      <td>95</td>\n",
       "      <td>85</td>\n",
       "      <td>91</td>\n",
       "    </tr>\n",
       "    <tr>\n",
       "      <th>C007</th>\n",
       "      <td>한유진</td>\n",
       "      <td>31</td>\n",
       "      <td>파주</td>\n",
       "      <td>NaN</td>\n",
       "      <td>68</td>\n",
       "      <td>65</td>\n",
       "      <td>77</td>\n",
       "      <td>83</td>\n",
       "    </tr>\n",
       "    <tr>\n",
       "      <th>C008</th>\n",
       "      <td>강민호</td>\n",
       "      <td>29</td>\n",
       "      <td>일산</td>\n",
       "      <td>Sports</td>\n",
       "      <td>98</td>\n",
       "      <td>125</td>\n",
       "      <td>96</td>\n",
       "      <td>90</td>\n",
       "    </tr>\n",
       "  </tbody>\n",
       "</table>\n",
       "</div>"
      ],
      "text/plain": [
       "      고객명  나이 거주도시        주요관심사  최근1년_방문빈도  평균구매액(만원)  고객만족도(점)  재구매의사(점)\n",
       "고객ID                                                                     \n",
       "C001  박태근  35   시흥  Electronics         75         70        78        92\n",
       "C002  이영희  30   안양      fashion         85         92        88        85\n",
       "C003  박지성  35   울산          NaN         95        110        91        88\n",
       "C004  최민아  40   창원      Fashion         92        105        82        96\n",
       "C005  정수빈  28   구로      Fashion         82         88        94        79\n",
       "C006  윤태영  27   시흥  Electronics         88         95        85        91\n",
       "C007  한유진  31   파주          NaN         68         65        77        83\n",
       "C008  강민호  29   일산       Sports         98        125        96        90"
      ]
     },
     "execution_count": 2,
     "metadata": {},
     "output_type": "execute_result"
    }
   ],
   "source": [
    "import pandas as pd\n",
    "df = pd.read_csv('data/customers3.csv', index_col='고객ID')\n",
    "df"
   ]
  },
  {
   "cell_type": "markdown",
   "id": "4a40d367",
   "metadata": {},
   "source": [
    "### .iloc[] (Integer-location)\n",
    "- 'Integer location'의 약자로, **정수 위치(0부터 시작하는 순서)**를 기반으로 데이터를 선택(조회)하는 기능\n",
    "- df.iloc[행위치, 열위치] 형태로 사용하며, 이름(label)이 아닌 순서(position)로만 작동한다."
   ]
  },
  {
   "cell_type": "markdown",
   "id": "1fec920c",
   "metadata": {},
   "source": [
    "**행(ROW) 전체 조회하기**"
   ]
  },
  {
   "cell_type": "code",
   "execution_count": 3,
   "id": "c2c4fef9",
   "metadata": {},
   "outputs": [
    {
     "data": {
      "text/plain": [
       "고객명                  박태근\n",
       "나이                    35\n",
       "거주도시                  시흥\n",
       "주요관심사        Electronics\n",
       "최근1년_방문빈도             75\n",
       "평균구매액(만원)             70\n",
       "고객만족도(점)              78\n",
       "재구매의사(점)              92\n",
       "Name: C001, dtype: object"
      ]
     },
     "execution_count": 3,
     "metadata": {},
     "output_type": "execute_result"
    }
   ],
   "source": [
    "df.iloc[0] # 0번째 row\n",
    "# Series가 반환된다."
   ]
  },
  {
   "cell_type": "code",
   "execution_count": 4,
   "id": "2fb1ce23",
   "metadata": {},
   "outputs": [
    {
     "data": {
      "text/html": [
       "<div>\n",
       "<style scoped>\n",
       "    .dataframe tbody tr th:only-of-type {\n",
       "        vertical-align: middle;\n",
       "    }\n",
       "\n",
       "    .dataframe tbody tr th {\n",
       "        vertical-align: top;\n",
       "    }\n",
       "\n",
       "    .dataframe thead th {\n",
       "        text-align: right;\n",
       "    }\n",
       "</style>\n",
       "<table border=\"1\" class=\"dataframe\">\n",
       "  <thead>\n",
       "    <tr style=\"text-align: right;\">\n",
       "      <th></th>\n",
       "      <th>고객명</th>\n",
       "      <th>나이</th>\n",
       "      <th>거주도시</th>\n",
       "      <th>주요관심사</th>\n",
       "      <th>최근1년_방문빈도</th>\n",
       "      <th>평균구매액(만원)</th>\n",
       "      <th>고객만족도(점)</th>\n",
       "      <th>재구매의사(점)</th>\n",
       "    </tr>\n",
       "    <tr>\n",
       "      <th>고객ID</th>\n",
       "      <th></th>\n",
       "      <th></th>\n",
       "      <th></th>\n",
       "      <th></th>\n",
       "      <th></th>\n",
       "      <th></th>\n",
       "      <th></th>\n",
       "      <th></th>\n",
       "    </tr>\n",
       "  </thead>\n",
       "  <tbody>\n",
       "    <tr>\n",
       "      <th>C001</th>\n",
       "      <td>박태근</td>\n",
       "      <td>35</td>\n",
       "      <td>시흥</td>\n",
       "      <td>Electronics</td>\n",
       "      <td>75</td>\n",
       "      <td>70</td>\n",
       "      <td>78</td>\n",
       "      <td>92</td>\n",
       "    </tr>\n",
       "    <tr>\n",
       "      <th>C002</th>\n",
       "      <td>이영희</td>\n",
       "      <td>30</td>\n",
       "      <td>안양</td>\n",
       "      <td>fashion</td>\n",
       "      <td>85</td>\n",
       "      <td>92</td>\n",
       "      <td>88</td>\n",
       "      <td>85</td>\n",
       "    </tr>\n",
       "    <tr>\n",
       "      <th>C003</th>\n",
       "      <td>박지성</td>\n",
       "      <td>35</td>\n",
       "      <td>울산</td>\n",
       "      <td>NaN</td>\n",
       "      <td>95</td>\n",
       "      <td>110</td>\n",
       "      <td>91</td>\n",
       "      <td>88</td>\n",
       "    </tr>\n",
       "    <tr>\n",
       "      <th>C004</th>\n",
       "      <td>최민아</td>\n",
       "      <td>40</td>\n",
       "      <td>창원</td>\n",
       "      <td>Fashion</td>\n",
       "      <td>92</td>\n",
       "      <td>105</td>\n",
       "      <td>82</td>\n",
       "      <td>96</td>\n",
       "    </tr>\n",
       "    <tr>\n",
       "      <th>C005</th>\n",
       "      <td>정수빈</td>\n",
       "      <td>28</td>\n",
       "      <td>구로</td>\n",
       "      <td>Fashion</td>\n",
       "      <td>82</td>\n",
       "      <td>88</td>\n",
       "      <td>94</td>\n",
       "      <td>79</td>\n",
       "    </tr>\n",
       "  </tbody>\n",
       "</table>\n",
       "</div>"
      ],
      "text/plain": [
       "      고객명  나이 거주도시        주요관심사  최근1년_방문빈도  평균구매액(만원)  고객만족도(점)  재구매의사(점)\n",
       "고객ID                                                                     \n",
       "C001  박태근  35   시흥  Electronics         75         70        78        92\n",
       "C002  이영희  30   안양      fashion         85         92        88        85\n",
       "C003  박지성  35   울산          NaN         95        110        91        88\n",
       "C004  최민아  40   창원      Fashion         92        105        82        96\n",
       "C005  정수빈  28   구로      Fashion         82         88        94        79"
      ]
     },
     "execution_count": 4,
     "metadata": {},
     "output_type": "execute_result"
    }
   ],
   "source": [
    "df.iloc[0:5] # 0번째부터 4번째 row까지"
   ]
  },
  {
   "cell_type": "markdown",
   "id": "28584b51",
   "metadata": {},
   "source": [
    "**단일 값(데이터) 조회하기**"
   ]
  },
  {
   "cell_type": "code",
   "execution_count": 5,
   "id": "84a18e97",
   "metadata": {},
   "outputs": [
    {
     "data": {
      "text/plain": [
       "np.int64(35)"
      ]
     },
     "execution_count": 5,
     "metadata": {},
     "output_type": "execute_result"
    }
   ],
   "source": [
    "df.iloc[0, 1] # 0번째 위치의 1번째[나이] 데이터"
   ]
  },
  {
   "cell_type": "code",
   "execution_count": 6,
   "id": "b0372729",
   "metadata": {},
   "outputs": [
    {
     "data": {
      "text/plain": [
       "'구로'"
      ]
     },
     "execution_count": 6,
     "metadata": {},
     "output_type": "execute_result"
    }
   ],
   "source": [
    "df.iloc[4,2] # 5번 고객의 거주도시 데이터"
   ]
  },
  {
   "cell_type": "code",
   "execution_count": 7,
   "id": "88d291fa",
   "metadata": {},
   "outputs": [
    {
     "data": {
      "text/plain": [
       "고객ID\n",
       "C001    시흥\n",
       "C002    안양\n",
       "Name: 거주도시, dtype: object"
      ]
     },
     "execution_count": 7,
     "metadata": {},
     "output_type": "execute_result"
    }
   ],
   "source": [
    "# 그럼 이건 뭘까요?\n",
    "# 0번째, 1번째 로우의 2번째(거주도시) 데이터\n",
    "df.iloc[[0,1], 2] "
   ]
  },
  {
   "cell_type": "code",
   "execution_count": 8,
   "id": "a259a5d0",
   "metadata": {},
   "outputs": [
    {
     "data": {
      "text/html": [
       "<div>\n",
       "<style scoped>\n",
       "    .dataframe tbody tr th:only-of-type {\n",
       "        vertical-align: middle;\n",
       "    }\n",
       "\n",
       "    .dataframe tbody tr th {\n",
       "        vertical-align: top;\n",
       "    }\n",
       "\n",
       "    .dataframe thead th {\n",
       "        text-align: right;\n",
       "    }\n",
       "</style>\n",
       "<table border=\"1\" class=\"dataframe\">\n",
       "  <thead>\n",
       "    <tr style=\"text-align: right;\">\n",
       "      <th></th>\n",
       "      <th>최근1년_방문빈도</th>\n",
       "      <th>평균구매액(만원)</th>\n",
       "      <th>고객만족도(점)</th>\n",
       "      <th>재구매의사(점)</th>\n",
       "    </tr>\n",
       "    <tr>\n",
       "      <th>고객ID</th>\n",
       "      <th></th>\n",
       "      <th></th>\n",
       "      <th></th>\n",
       "      <th></th>\n",
       "    </tr>\n",
       "  </thead>\n",
       "  <tbody>\n",
       "    <tr>\n",
       "      <th>C001</th>\n",
       "      <td>75</td>\n",
       "      <td>70</td>\n",
       "      <td>78</td>\n",
       "      <td>92</td>\n",
       "    </tr>\n",
       "    <tr>\n",
       "      <th>C002</th>\n",
       "      <td>85</td>\n",
       "      <td>92</td>\n",
       "      <td>88</td>\n",
       "      <td>85</td>\n",
       "    </tr>\n",
       "    <tr>\n",
       "      <th>C003</th>\n",
       "      <td>95</td>\n",
       "      <td>110</td>\n",
       "      <td>91</td>\n",
       "      <td>88</td>\n",
       "    </tr>\n",
       "  </tbody>\n",
       "</table>\n",
       "</div>"
      ],
      "text/plain": [
       "      최근1년_방문빈도  평균구매액(만원)  고객만족도(점)  재구매의사(점)\n",
       "고객ID                                          \n",
       "C001         75         70        78        92\n",
       "C002         85         92        88        85\n",
       "C003         95        110        91        88"
      ]
     },
     "execution_count": 8,
     "metadata": {},
     "output_type": "execute_result"
    }
   ],
   "source": [
    "df.iloc[0:3, 4:8] # 0번째부터 4번째 row까지, 3번째부터 7번째 col까지 데이터"
   ]
  },
  {
   "cell_type": "markdown",
   "id": "e3b5b533",
   "metadata": {},
   "source": [
    "### .loc[] (Label-location)\n",
    "- 'Label location'의 약자로, 이름(Label)을 기반으로 데이터를 선택(조회)하는 기능\n",
    "- 인덱스 이름(예: 'row_A')과 컬럼 이름(예: 'col_X')을 직접 사용"
   ]
  },
  {
   "cell_type": "markdown",
   "id": "376caded",
   "metadata": {},
   "source": [
    "**행(ROW) 전체 조회하기**"
   ]
  },
  {
   "cell_type": "code",
   "execution_count": 9,
   "id": "ca2d41b5",
   "metadata": {},
   "outputs": [
    {
     "data": {
      "text/plain": [
       "고객명                  박태근\n",
       "나이                    35\n",
       "거주도시                  시흥\n",
       "주요관심사        Electronics\n",
       "최근1년_방문빈도             75\n",
       "평균구매액(만원)             70\n",
       "고객만족도(점)              78\n",
       "재구매의사(점)              92\n",
       "Name: C001, dtype: object"
      ]
     },
     "execution_count": 9,
     "metadata": {},
     "output_type": "execute_result"
    }
   ],
   "source": [
    "df.loc['C001']"
   ]
  },
  {
   "cell_type": "code",
   "execution_count": 11,
   "id": "9fc4ddfd",
   "metadata": {},
   "outputs": [
    {
     "data": {
      "text/plain": [
       "고객명              이영희\n",
       "나이                30\n",
       "거주도시              안양\n",
       "주요관심사        fashion\n",
       "최근1년_방문빈도         85\n",
       "평균구매액(만원)         92\n",
       "고객만족도(점)          88\n",
       "재구매의사(점)          85\n",
       "Name: C002, dtype: object"
      ]
     },
     "execution_count": 11,
     "metadata": {},
     "output_type": "execute_result"
    }
   ],
   "source": [
    "df.loc['C002']"
   ]
  },
  {
   "cell_type": "markdown",
   "id": "6cb104db",
   "metadata": {},
   "source": [
    "**단일 값(데이터) 조회하기**"
   ]
  },
  {
   "cell_type": "code",
   "execution_count": 12,
   "id": "329c1c99",
   "metadata": {},
   "outputs": [
    {
     "data": {
      "text/plain": [
       "'시흥'"
      ]
     },
     "execution_count": 12,
     "metadata": {},
     "output_type": "execute_result"
    }
   ],
   "source": [
    "df.loc['C001', '거주도시'] # index 1번에 해당하는 국어"
   ]
  },
  {
   "cell_type": "code",
   "execution_count": 13,
   "id": "ab234693",
   "metadata": {},
   "outputs": [
    {
     "data": {
      "text/html": [
       "<div>\n",
       "<style scoped>\n",
       "    .dataframe tbody tr th:only-of-type {\n",
       "        vertical-align: middle;\n",
       "    }\n",
       "\n",
       "    .dataframe tbody tr th {\n",
       "        vertical-align: top;\n",
       "    }\n",
       "\n",
       "    .dataframe thead th {\n",
       "        text-align: right;\n",
       "    }\n",
       "</style>\n",
       "<table border=\"1\" class=\"dataframe\">\n",
       "  <thead>\n",
       "    <tr style=\"text-align: right;\">\n",
       "      <th></th>\n",
       "      <th>고객명</th>\n",
       "      <th>거주도시</th>\n",
       "    </tr>\n",
       "    <tr>\n",
       "      <th>고객ID</th>\n",
       "      <th></th>\n",
       "      <th></th>\n",
       "    </tr>\n",
       "  </thead>\n",
       "  <tbody>\n",
       "    <tr>\n",
       "      <th>C001</th>\n",
       "      <td>박태근</td>\n",
       "      <td>시흥</td>\n",
       "    </tr>\n",
       "    <tr>\n",
       "      <th>C002</th>\n",
       "      <td>이영희</td>\n",
       "      <td>안양</td>\n",
       "    </tr>\n",
       "  </tbody>\n",
       "</table>\n",
       "</div>"
      ],
      "text/plain": [
       "      고객명 거주도시\n",
       "고객ID          \n",
       "C001  박태근   시흥\n",
       "C002  이영희   안양"
      ]
     },
     "execution_count": 13,
     "metadata": {},
     "output_type": "execute_result"
    }
   ],
   "source": [
    "df.loc[['C001','C002'], ['고객명','거주도시']] # index 1번, 2번에 해당하는 국어"
   ]
  },
  {
   "cell_type": "code",
   "execution_count": null,
   "id": "9b0e7fdc",
   "metadata": {},
   "outputs": [
    {
     "data": {
      "text/html": [
       "<div>\n",
       "<style scoped>\n",
       "    .dataframe tbody tr th:only-of-type {\n",
       "        vertical-align: middle;\n",
       "    }\n",
       "\n",
       "    .dataframe tbody tr th {\n",
       "        vertical-align: top;\n",
       "    }\n",
       "\n",
       "    .dataframe thead th {\n",
       "        text-align: right;\n",
       "    }\n",
       "</style>\n",
       "<table border=\"1\" class=\"dataframe\">\n",
       "  <thead>\n",
       "    <tr style=\"text-align: right;\">\n",
       "      <th></th>\n",
       "      <th>고객명</th>\n",
       "      <th>나이</th>\n",
       "      <th>거주도시</th>\n",
       "      <th>주요관심사</th>\n",
       "    </tr>\n",
       "    <tr>\n",
       "      <th>고객ID</th>\n",
       "      <th></th>\n",
       "      <th></th>\n",
       "      <th></th>\n",
       "      <th></th>\n",
       "    </tr>\n",
       "  </thead>\n",
       "  <tbody>\n",
       "    <tr>\n",
       "      <th>C001</th>\n",
       "      <td>박태근</td>\n",
       "      <td>35</td>\n",
       "      <td>시흥</td>\n",
       "      <td>Electronics</td>\n",
       "    </tr>\n",
       "    <tr>\n",
       "      <th>C002</th>\n",
       "      <td>이영희</td>\n",
       "      <td>30</td>\n",
       "      <td>안양</td>\n",
       "      <td>fashion</td>\n",
       "    </tr>\n",
       "    <tr>\n",
       "      <th>C003</th>\n",
       "      <td>박지성</td>\n",
       "      <td>35</td>\n",
       "      <td>울산</td>\n",
       "      <td>NaN</td>\n",
       "    </tr>\n",
       "    <tr>\n",
       "      <th>C004</th>\n",
       "      <td>최민아</td>\n",
       "      <td>40</td>\n",
       "      <td>창원</td>\n",
       "      <td>Fashion</td>\n",
       "    </tr>\n",
       "    <tr>\n",
       "      <th>C005</th>\n",
       "      <td>정수빈</td>\n",
       "      <td>28</td>\n",
       "      <td>구로</td>\n",
       "      <td>Fashion</td>\n",
       "    </tr>\n",
       "  </tbody>\n",
       "</table>\n",
       "</div>"
      ],
      "text/plain": [
       "      고객명  나이 거주도시        주요관심사\n",
       "고객ID                           \n",
       "C001  박태근  35   시흥  Electronics\n",
       "C002  이영희  30   안양      fashion\n",
       "C003  박지성  35   울산          NaN\n",
       "C004  최민아  40   창원      Fashion\n",
       "C005  정수빈  28   구로      Fashion"
      ]
     },
     "execution_count": 15,
     "metadata": {},
     "output_type": "execute_result"
    }
   ],
   "source": [
    "df.loc['C001':'C005', '고객명':'주요관심사'] # index 1번부터 5번까지, 고객명에서 주요관심사까지\n",
    "# 주의 '주요관심사', 'C005' 포함"
   ]
  }
 ],
 "metadata": {
  "kernelspec": {
   "display_name": "Python 3",
   "language": "python",
   "name": "python3"
  },
  "language_info": {
   "codemirror_mode": {
    "name": "ipython",
    "version": 3
   },
   "file_extension": ".py",
   "mimetype": "text/x-python",
   "name": "python",
   "nbconvert_exporter": "python",
   "pygments_lexer": "ipython3",
   "version": "3.14.0"
  }
 },
 "nbformat": 4,
 "nbformat_minor": 5
}
