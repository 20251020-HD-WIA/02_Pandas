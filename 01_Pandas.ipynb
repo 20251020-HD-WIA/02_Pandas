{
 "cells": [
  {
   "cell_type": "markdown",
   "id": "2fe53069",
   "metadata": {},
   "source": [
    "# 01. Pandas\n",
    "---\n",
    "- pandas는 데이터 분석과 조작을 위해 설계된 파이썬 라이브러리로, <br>\n",
    "    특히 구조화된 데이터(예: 테이블 형태의 데이터) 처리에 강력하다.\n",
    "\n",
    "pandas는 잘 정리된 공식 문서를 제공한다.\n",
    "[Pandas Documentation](https://pandas.pydata.org/docs/)\n",
    "\n",
    "- **pandas의 특장점**\n",
    "    - 복잡한 데이터를 간단하게 조작할 수 있는 메서드를 제공한다.\n",
    "    - CSV, Excel, SQL 등 다양한 데이터 소스를 지원하여, 불러오거나 저장할 수 있다.\n",
    "    - 기본적인 통계 연산부터 복잡한 데이터 집계 및 그룹화까지 강력한 분석 도구들을 제공한다.\n",
    "    - matplotlib 및 seaborn과 같은 시각화 라이브러리와 쉽게 연동 가능하다."
   ]
  },
  {
   "cell_type": "code",
   "execution_count": null,
   "id": "4a9a212a",
   "metadata": {},
   "outputs": [],
   "source": [
    "%pip install pandas"
   ]
  },
  {
   "cell_type": "code",
   "execution_count": null,
   "id": "3950b408",
   "metadata": {},
   "outputs": [],
   "source": [
    "# 일반적인 판다스 사용 방법\n",
    "import pandas as pd"
   ]
  },
  {
   "cell_type": "markdown",
   "id": "43e9dc9b",
   "metadata": {},
   "source": [
    "## Pandas 데이터 구조\n",
    "### Pandas 데이터 구조 개요\n",
    "\n",
    " > 판다스의 핵심 데이터 구조는 Series와 DataFrame이다.\n",
    " > - Series: 1차원 데이터를 다루는 객체\n",
    " > - DataFrame: 2차원 데이터를 다루는 객체\n",
    "\n",
    "### Series\n",
    "- padnas의 Series는 인덱스와 데이터를 함께 저장한다.\n",
    "- 데이터는 숫자, 문자열, 불리언, 또다른 데이터타입을 포함 할 수 있다.\n",
    "\n",
    "\n"
   ]
  },
  {
   "cell_type": "markdown",
   "id": "68318f21",
   "metadata": {},
   "source": [
    "**Series 생성 방법**\n",
    "- **pd.Series()** 함수를 사용하여 생성 할 수 있다."
   ]
  },
  {
   "cell_type": "code",
   "execution_count": null,
   "id": "ec59b24b",
   "metadata": {},
   "outputs": [],
   "source": []
  },
  {
   "cell_type": "markdown",
   "id": "27d0e137",
   "metadata": {},
   "source": [
    "- Series의 각 값은 인덱스를 이용해 선택 할 수 있다."
   ]
  },
  {
   "cell_type": "code",
   "execution_count": null,
   "id": "35d8a956",
   "metadata": {},
   "outputs": [],
   "source": []
  },
  {
   "cell_type": "code",
   "execution_count": null,
   "id": "ce3c0ad6",
   "metadata": {},
   "outputs": [],
   "source": []
  },
  {
   "cell_type": "markdown",
   "id": "f2e1320d",
   "metadata": {},
   "source": [
    "- Index를 지정해서 Series를 생성 할 수 있다. \n",
    "> 시리즈 갯수에 맞게 작성해야한다."
   ]
  },
  {
   "cell_type": "code",
   "execution_count": null,
   "id": "20d11cce",
   "metadata": {},
   "outputs": [],
   "source": []
  },
  {
   "cell_type": "code",
   "execution_count": null,
   "id": "6d286b00",
   "metadata": {},
   "outputs": [],
   "source": []
  },
  {
   "cell_type": "markdown",
   "id": "d658b753",
   "metadata": {},
   "source": [
    "### DataFrame\n",
    "- DataFrame은 행(row)과 열(column)로 이루어진 2차원 데이터 구조로, Series의 집합과 같은 구조이다.\n",
    "- 엑셀 시트나 SQL 테이블과 유사한 구조를 가지고 있다."
   ]
  },
  {
   "cell_type": "markdown",
   "id": "c1ecc717",
   "metadata": {},
   "source": [
    "**DataFrame 생성 방법**\n",
    "- Data Frame은 다양한 방법으로 생성 가능하다. \n",
    "- 대표적인 방법으로는 딕셔너리 또는 리스트를 사용하는 방법이다."
   ]
  },
  {
   "cell_type": "code",
   "execution_count": null,
   "id": "26df2d9a",
   "metadata": {},
   "outputs": [],
   "source": [
    "data = {\n",
    "    'Name': ['Alice', 'Bob', 'Charlie', 'David'],\n",
    "    'Age': [25, 30, 35, 40],\n",
    "    'City': ['New York', 'Los Angeles', 'Chicago', 'Houston']\n",
    "}\n"
   ]
  },
  {
   "cell_type": "markdown",
   "id": "1a359d90",
   "metadata": {},
   "source": [
    "- 행과 열에는 각각의 인덱스와 컬럼 라벨이 있어 데이터를 쉽게 선택 가능하다."
   ]
  },
  {
   "cell_type": "code",
   "execution_count": null,
   "id": "e68f5435",
   "metadata": {},
   "outputs": [],
   "source": []
  },
  {
   "cell_type": "code",
   "execution_count": null,
   "id": "8c9766ae",
   "metadata": {},
   "outputs": [],
   "source": []
  },
  {
   "cell_type": "markdown",
   "id": "06ff4086",
   "metadata": {},
   "source": [
    "- 열을 선택하려면 loc 또는 iloc를 사용 할 수 있다."
   ]
  },
  {
   "cell_type": "code",
   "execution_count": null,
   "id": "1db02113",
   "metadata": {},
   "outputs": [],
   "source": []
  },
  {
   "cell_type": "code",
   "execution_count": null,
   "id": "6eb9397e",
   "metadata": {},
   "outputs": [],
   "source": []
  },
  {
   "cell_type": "markdown",
   "id": "3d7377e3",
   "metadata": {},
   "source": [
    "### DataFrame 객체 생성"
   ]
  },
  {
   "cell_type": "markdown",
   "id": "213322c1",
   "metadata": {},
   "source": [
    "- index를 포함하여 DataFrame을 생성 할 수 있다."
   ]
  },
  {
   "cell_type": "code",
   "execution_count": null,
   "id": "cb717f43",
   "metadata": {},
   "outputs": [],
   "source": [
    "df = pd.DataFrame(data, index=['1번', '2번', '3번','4번'])\n",
    "df"
   ]
  },
  {
   "cell_type": "markdown",
   "id": "66652601",
   "metadata": {},
   "source": [
    "- data 중에서 원하는 column 만 선택하거나, 순서 변경해서 조회 할 수 있다."
   ]
  },
  {
   "cell_type": "code",
   "execution_count": null,
   "id": "da57fc31",
   "metadata": {},
   "outputs": [],
   "source": [
    "df = pd.DataFrame(data, columns=['Name', 'City'])\n",
    "df"
   ]
  }
 ],
 "metadata": {
  "kernelspec": {
   "display_name": "bear",
   "language": "python",
   "name": "python3"
  },
  "language_info": {
   "codemirror_mode": {
    "name": "ipython",
    "version": 3
   },
   "file_extension": ".py",
   "mimetype": "text/x-python",
   "name": "python",
   "nbconvert_exporter": "python",
   "pygments_lexer": "ipython3",
   "version": "3.12.11"
  }
 },
 "nbformat": 4,
 "nbformat_minor": 5
}
