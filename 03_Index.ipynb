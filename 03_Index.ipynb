{
 "cells": [
  {
   "cell_type": "markdown",
   "id": "26f80a76",
   "metadata": {},
   "source": [
    "# 03. Index\n",
    "---\n",
    "- 행(row)에 붙이는 이름표\n",
    "- 원하는 데이터를 찾을 수 있는 주소"
   ]
  },
  {
   "cell_type": "code",
   "execution_count": null,
   "id": "a82ba4e0",
   "metadata": {},
   "outputs": [],
   "source": [
    "lst = ['유재석','하하']\n",
    "lst[0]"
   ]
  },
  {
   "cell_type": "code",
   "execution_count": null,
   "id": "405c8828",
   "metadata": {},
   "outputs": [],
   "source": [
    "import pandas as pd\n",
    "\n",
    "data = {\n",
    "    '고객ID': ['C001', 'C002', 'C003', 'C004', 'C005', 'C006', 'C007', 'C008'],\n",
    "    '고객명': ['박태근', '이영희', '박지성', '최민아', '정수빈', '윤태영', '한유진', '강민호'],\n",
    "    '나이': [35, 30, 35, 40, 28, 27, 31, 29],\n",
    "    '거주도시': ['시흥', '안양', '울산', '창원', '구로', '시흥', '파주', '일산'],\n",
    "    '주요관심사': ['Electronics', 'fashion', '', 'Fashion', 'Fashion', 'Electronics', '', 'Sports'],\n",
    "    '최근1년_방문빈도': [75, 85, 95, 92, 82, 88, 68, 98],\n",
    "    '평균구매액(만원)': [70, 92, 110, 105, 88, 95, 65, 125],\n",
    "    '고객만족도(점)': [78, 88, 91, 82, 94, 85, 77, 96],\n",
    "    '재구매의사(점)': [92, 85, 88, 96, 79, 91, 83, 90]\n",
    "}\n",
    "\n",
    "df = pd.DataFrame(data, index=['1번', '2번', '3번', '4번', '5번', '6번', '7번', '8번'])\n",
    "df"
   ]
  },
  {
   "cell_type": "code",
   "execution_count": null,
   "id": "461cbc8d",
   "metadata": {},
   "outputs": [],
   "source": [
    "# index를 확인하는 방법\n"
   ]
  },
  {
   "cell_type": "markdown",
   "id": "827257d9",
   "metadata": {},
   "source": [
    "- Index에 이름을 설정 할 수 있다."
   ]
  },
  {
   "cell_type": "code",
   "execution_count": null,
   "id": "92185538",
   "metadata": {},
   "outputs": [],
   "source": []
  },
  {
   "cell_type": "markdown",
   "id": "3fe3aae9",
   "metadata": {},
   "source": [
    "reset_index()\n",
    "- 인덱스를 초기화할 수 있다.\n",
    "- 기본 동작은 데이터는 남아있고, 일반 컬럼으로 변한다."
   ]
  },
  {
   "cell_type": "code",
   "execution_count": null,
   "id": "c93ba35d",
   "metadata": {},
   "outputs": [],
   "source": []
  },
  {
   "cell_type": "code",
   "execution_count": null,
   "id": "ffc0ee85",
   "metadata": {},
   "outputs": [],
   "source": []
  },
  {
   "cell_type": "code",
   "execution_count": null,
   "id": "28e14d00",
   "metadata": {},
   "outputs": [],
   "source": []
  },
  {
   "cell_type": "markdown",
   "id": "e0c98ce6",
   "metadata": {},
   "source": [
    "**inplace=True 옵션**\n",
    "- 데이터 프레임의 변경을 원본에도 적용시킬 수 있다."
   ]
  },
  {
   "cell_type": "code",
   "execution_count": null,
   "id": "f425a007",
   "metadata": {},
   "outputs": [],
   "source": []
  },
  {
   "cell_type": "markdown",
   "id": "87fe1ed8",
   "metadata": {},
   "source": [
    "**set_index()**\n",
    "- 특정 열을 인덱스로 지정한다."
   ]
  },
  {
   "cell_type": "code",
   "execution_count": null,
   "id": "1810d890",
   "metadata": {},
   "outputs": [],
   "source": []
  },
  {
   "cell_type": "code",
   "execution_count": null,
   "id": "6758f9c8",
   "metadata": {},
   "outputs": [],
   "source": []
  },
  {
   "cell_type": "code",
   "execution_count": null,
   "id": "994eed15",
   "metadata": {},
   "outputs": [],
   "source": []
  },
  {
   "cell_type": "code",
   "execution_count": null,
   "id": "9096d41b",
   "metadata": {},
   "outputs": [],
   "source": []
  },
  {
   "cell_type": "markdown",
   "id": "8fe59a7e",
   "metadata": {},
   "source": [
    "Index를 기준으로 정렬 할 수 있다."
   ]
  },
  {
   "cell_type": "code",
   "execution_count": null,
   "id": "88d43fb5",
   "metadata": {},
   "outputs": [],
   "source": []
  },
  {
   "cell_type": "code",
   "execution_count": null,
   "id": "aed87ce0",
   "metadata": {},
   "outputs": [],
   "source": []
  }
 ],
 "metadata": {
  "kernelspec": {
   "display_name": "bear",
   "language": "python",
   "name": "python3"
  },
  "language_info": {
   "codemirror_mode": {
    "name": "ipython",
    "version": 3
   },
   "file_extension": ".py",
   "mimetype": "text/x-python",
   "name": "python",
   "nbconvert_exporter": "python",
   "pygments_lexer": "ipython3",
   "version": "3.12.11"
  }
 },
 "nbformat": 4,
 "nbformat_minor": 5
}
