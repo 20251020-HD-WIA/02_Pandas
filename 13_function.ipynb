{
 "cells": [
  {
   "cell_type": "markdown",
   "id": "780c506f",
   "metadata": {},
   "source": [
    "# 13. 함수적용\n",
    "---\n",
    "- pandas에서 데이터 변형을 수행할 때, apply()함수는 강력한 도구이다.\n",
    "- 이함수를 사용하면 DataFrame 또는 Series의 각 요소에 대해 원하는 연산을 수행 할 수 있다."
   ]
  },
  {
   "cell_type": "code",
   "execution_count": null,
   "id": "c85721e8",
   "metadata": {},
   "outputs": [],
   "source": [
    "import pandas as pd\n",
    "df = pd.read_csv('data/customers3.csv', index_col='고객ID')\n",
    "df"
   ]
  },
  {
   "cell_type": "code",
   "execution_count": null,
   "id": "83ed033d",
   "metadata": {},
   "outputs": [],
   "source": []
  },
  {
   "cell_type": "markdown",
   "id": "d6db5dfb",
   "metadata": {},
   "source": [
    "**데이터에 함수 적용 `apply()`**\n",
    "- DataFrame이나 Series의 각 요소에 함수를 적용할 때 사용된다.\n",
    "- 특히 열(Column) 단위나 행(row) 단위로 복잡한 연산을 적용할 때 유용하다."
   ]
  },
  {
   "cell_type": "code",
   "execution_count": null,
   "id": "bf9a0ef0",
   "metadata": {},
   "outputs": [],
   "source": []
  },
  {
   "cell_type": "code",
   "execution_count": null,
   "id": "3f742baa",
   "metadata": {},
   "outputs": [],
   "source": []
  },
  {
   "cell_type": "code",
   "execution_count": null,
   "id": "de1ed67f",
   "metadata": {},
   "outputs": [],
   "source": []
  },
  {
   "cell_type": "markdown",
   "id": "a6759972",
   "metadata": {},
   "source": [
    "**`merge()`**\n",
    "- SQL의 JOIN과 유사하게 두개의 DataFrame을 특정 열을 기준으로 결합한다."
   ]
  },
  {
   "cell_type": "code",
   "execution_count": null,
   "id": "ddda34bf",
   "metadata": {},
   "outputs": [],
   "source": []
  },
  {
   "cell_type": "code",
   "execution_count": null,
   "id": "ca42c274",
   "metadata": {},
   "outputs": [],
   "source": []
  },
  {
   "cell_type": "code",
   "execution_count": null,
   "id": "073cf3ed",
   "metadata": {},
   "outputs": [],
   "source": []
  },
  {
   "cell_type": "markdown",
   "id": "2ca2e466",
   "metadata": {},
   "source": [
    "**`concat()`**\n",
    "- DataFrame을 위아래또는 좌, 우로 결합할때 사용한다.\n",
    "- 행을 추가할때는 `axis=0`, 열을추가할땐는 `axis=1`을 사용한다."
   ]
  },
  {
   "cell_type": "code",
   "execution_count": null,
   "id": "590112c0",
   "metadata": {},
   "outputs": [],
   "source": []
  },
  {
   "cell_type": "code",
   "execution_count": null,
   "id": "c7f4f78d",
   "metadata": {},
   "outputs": [],
   "source": []
  },
  {
   "cell_type": "code",
   "execution_count": null,
   "id": "01c05b27",
   "metadata": {},
   "outputs": [],
   "source": []
  },
  {
   "cell_type": "code",
   "execution_count": null,
   "id": "56ca0d09",
   "metadata": {},
   "outputs": [],
   "source": []
  },
  {
   "cell_type": "markdown",
   "id": "f81afc0a",
   "metadata": {},
   "source": [
    "**`join()`**\n",
    "- 두개의 DataFrame을 인덱스를 기준으로 결합 할 때 사용한다."
   ]
  },
  {
   "cell_type": "code",
   "execution_count": null,
   "id": "284c2a2b",
   "metadata": {},
   "outputs": [],
   "source": []
  }
 ],
 "metadata": {
  "kernelspec": {
   "display_name": "Python 3",
   "language": "python",
   "name": "python3"
  },
  "language_info": {
   "codemirror_mode": {
    "name": "ipython",
    "version": 3
   },
   "file_extension": ".py",
   "mimetype": "text/x-python",
   "name": "python",
   "nbconvert_exporter": "python",
   "pygments_lexer": "ipython3",
   "version": "3.14.0"
  }
 },
 "nbformat": 4,
 "nbformat_minor": 5
}
