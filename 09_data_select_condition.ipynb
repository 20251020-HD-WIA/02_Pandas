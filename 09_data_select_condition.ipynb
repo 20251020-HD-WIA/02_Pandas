{
 "cells": [
  {
   "cell_type": "markdown",
   "id": "f4bbd3be",
   "metadata": {},
   "source": [
    "# 9. 조건에 따른 데이터 선택\n",
    "---\n",
    "- 데이터프레임에서 특정 조건(참/거짓)을 만족하는 행들만 골라내는 기능"
   ]
  },
  {
   "cell_type": "code",
   "execution_count": null,
   "id": "eb43b0c7",
   "metadata": {},
   "outputs": [],
   "source": [
    "import pandas as pd\n",
    "df = pd.read_csv('data/customers3.csv', index_col='고객ID')\n",
    "df"
   ]
  },
  {
   "cell_type": "markdown",
   "id": "dbe714ef",
   "metadata": {},
   "source": [
    "- 고객중 나이가 30세 이상인 고객"
   ]
  },
  {
   "cell_type": "code",
   "execution_count": null,
   "id": "1d59f849",
   "metadata": {},
   "outputs": [],
   "source": []
  },
  {
   "cell_type": "markdown",
   "id": "1e3df66f",
   "metadata": {},
   "source": [
    "- True에 해당하는 데이터들만 조회 할 수도 있다."
   ]
  },
  {
   "cell_type": "code",
   "execution_count": null,
   "id": "90ccc490",
   "metadata": {},
   "outputs": [],
   "source": []
  },
  {
   "cell_type": "markdown",
   "id": "02f17ec0",
   "metadata": {},
   "source": [
    "- 필터를 반전시킬 수 있다."
   ]
  },
  {
   "cell_type": "code",
   "execution_count": null,
   "id": "3efc73b1",
   "metadata": {},
   "outputs": [],
   "source": []
  },
  {
   "cell_type": "code",
   "execution_count": null,
   "id": "a322b967",
   "metadata": {},
   "outputs": [],
   "source": []
  },
  {
   "cell_type": "markdown",
   "id": "b655dec9",
   "metadata": {},
   "source": [
    "loc와 응용해서 사용하기\n",
    "- 보통 조건에 따라 원하는 데이터들만 보기위해 많이 사용한다."
   ]
  },
  {
   "cell_type": "code",
   "execution_count": null,
   "id": "cbefea49",
   "metadata": {},
   "outputs": [],
   "source": []
  },
  {
   "cell_type": "code",
   "execution_count": null,
   "id": "f1c570fa",
   "metadata": {},
   "outputs": [],
   "source": []
  },
  {
   "cell_type": "markdown",
   "id": "10f3f9c0",
   "metadata": {},
   "source": [
    "Quiz\n",
    "- 평균구매액(만원)이 100만원 이상인 사람들의 고객명과 나이를 조회해보자"
   ]
  },
  {
   "cell_type": "code",
   "execution_count": null,
   "id": "73bb8bf7",
   "metadata": {},
   "outputs": [],
   "source": []
  },
  {
   "cell_type": "markdown",
   "id": "d76631d7",
   "metadata": {},
   "source": [
    "## 다양한 문법을 활용한 조건 설정"
   ]
  },
  {
   "cell_type": "markdown",
   "id": "1105a081",
   "metadata": {},
   "source": [
    "**& 엔드 조건**\n",
    "- 평균구매액이 90만원 이하 이고 재구매의사(점)이이 85 이상인 고객 데이터(전부)조회하기"
   ]
  },
  {
   "cell_type": "code",
   "execution_count": null,
   "id": "9d332ed7",
   "metadata": {},
   "outputs": [],
   "source": []
  },
  {
   "cell_type": "markdown",
   "id": "ed8890ee",
   "metadata": {},
   "source": [
    "**| or 조건**\n",
    "- 나이가 25살 미만이거나 35이상인 고객 데이터를 조회하기"
   ]
  },
  {
   "cell_type": "code",
   "execution_count": null,
   "id": "d631290b",
   "metadata": {},
   "outputs": [],
   "source": []
  },
  {
   "cell_type": "markdown",
   "id": "bfb307e7",
   "metadata": {},
   "source": [
    "**String 함수**"
   ]
  },
  {
   "cell_type": "markdown",
   "id": "e3611201",
   "metadata": {},
   "source": [
    "**startwith()**\n",
    "- 문자열이 특정 글자로 시작하는지 확인하는 메서드 (특정글자로 시작하면 True 아니면 False)"
   ]
  },
  {
   "cell_type": "code",
   "execution_count": null,
   "id": "4c57b963",
   "metadata": {},
   "outputs": [],
   "source": []
  },
  {
   "cell_type": "markdown",
   "id": "20d81a0d",
   "metadata": {},
   "source": [
    "**isin()**\n",
    "- 각 데이터가 특정 값 목록(리스트)에 포함되어 있는지 확인하는 메서드"
   ]
  },
  {
   "cell_type": "code",
   "execution_count": null,
   "id": "4fdd66f0",
   "metadata": {},
   "outputs": [],
   "source": []
  },
  {
   "cell_type": "code",
   "execution_count": null,
   "id": "d7971dcf",
   "metadata": {},
   "outputs": [],
   "source": []
  },
  {
   "cell_type": "markdown",
   "id": "f35d186c",
   "metadata": {},
   "source": [
    "**contains()**\n",
    "- 문자열이 특정 글자가 포함되는지 확인하는 메서드 (특정글자로 포함되면 True 아니면 False)"
   ]
  },
  {
   "cell_type": "code",
   "execution_count": null,
   "id": "14e22d10",
   "metadata": {},
   "outputs": [],
   "source": []
  },
  {
   "cell_type": "code",
   "execution_count": null,
   "id": "f9691671",
   "metadata": {},
   "outputs": [],
   "source": []
  },
  {
   "cell_type": "markdown",
   "id": "95f603af",
   "metadata": {},
   "source": [
    "- contains()을 사용할때 주의할점\n",
    "    - 만약 데이터가 NaN으로 되어있다면 문제가 발생 할 수 있다."
   ]
  },
  {
   "cell_type": "code",
   "execution_count": null,
   "id": "f515d586",
   "metadata": {},
   "outputs": [],
   "source": []
  },
  {
   "cell_type": "code",
   "execution_count": null,
   "id": "dfcca918",
   "metadata": {},
   "outputs": [],
   "source": []
  },
  {
   "cell_type": "code",
   "execution_count": null,
   "id": "1a98d382",
   "metadata": {},
   "outputs": [],
   "source": []
  },
  {
   "cell_type": "code",
   "execution_count": null,
   "id": "bd8964d7",
   "metadata": {},
   "outputs": [],
   "source": []
  },
  {
   "cell_type": "code",
   "execution_count": null,
   "id": "d75411b3",
   "metadata": {},
   "outputs": [],
   "source": []
  }
 ],
 "metadata": {
  "kernelspec": {
   "display_name": "Python 3",
   "language": "python",
   "name": "python3"
  },
  "language_info": {
   "codemirror_mode": {
    "name": "ipython",
    "version": 3
   },
   "file_extension": ".py",
   "mimetype": "text/x-python",
   "name": "python",
   "nbconvert_exporter": "python",
   "pygments_lexer": "ipython3",
   "version": "3.14.0"
  }
 },
 "nbformat": 4,
 "nbformat_minor": 5
}
