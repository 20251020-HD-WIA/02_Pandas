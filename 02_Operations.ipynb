{
 "cells": [
  {
   "cell_type": "markdown",
   "id": "227da269",
   "metadata": {},
   "source": [
    "# 02. 데이터 추가/수정/삭제\n",
    "---\n",
    "### DataFrame 행과 열 추가"
   ]
  },
  {
   "cell_type": "markdown",
   "id": "846d732f",
   "metadata": {},
   "source": [
    "- 열추가 : DataFrame에 새로운 열을 추가하려면 해당 열 이름과 데이터를 입력한다."
   ]
  },
  {
   "cell_type": "code",
   "execution_count": null,
   "id": "c9f2dd01",
   "metadata": {},
   "outputs": [],
   "source": [
    "import pandas as pd\n",
    "\n",
    "data = {\n",
    "    'Name': ['Alice', 'Bob', 'Charlie', 'David'],\n",
    "    'Age': [25, 30, 35, 40],\n",
    "    'City': ['New York', 'Los Angeles', 'Chicago', 'Houston']\n",
    "}\n",
    "\n",
    "df = pd.DataFrame(data) \n",
    "\n",
    "df"
   ]
  },
  {
   "cell_type": "code",
   "execution_count": null,
   "id": "a9f293a2",
   "metadata": {},
   "outputs": [],
   "source": [
    "# 'Country' 열 추가\n"
   ]
  },
  {
   "cell_type": "markdown",
   "id": "1addead7",
   "metadata": {},
   "source": [
    "- 행추가 : 새로운 행을 추가하려면 loc를 사용 할 수 있다."
   ]
  },
  {
   "cell_type": "code",
   "execution_count": null,
   "id": "2656bc9e",
   "metadata": {},
   "outputs": [],
   "source": [
    "new_row = ['Eve',22, \"San Francisco\", \"USA\"]\n"
   ]
  },
  {
   "cell_type": "markdown",
   "id": "fd754a3c",
   "metadata": {},
   "source": [
    "### DataFrame 행과 열 삭제"
   ]
  },
  {
   "cell_type": "markdown",
   "id": "9ad74846",
   "metadata": {},
   "source": [
    "- 열삭제 : DataFrame에서 열을 삭제하려면 drop() 메서드를 사용한다.\n",
    "> axis 옵션\n",
    "> - axis=0 은 행(row)를 의미\n",
    "> - axis=1 은 열(column)을 의미"
   ]
  },
  {
   "cell_type": "code",
   "execution_count": null,
   "id": "e000ad5b",
   "metadata": {},
   "outputs": [],
   "source": []
  },
  {
   "cell_type": "markdown",
   "id": "194c9896",
   "metadata": {},
   "source": [
    "- axis를 활용한 행 삭제"
   ]
  },
  {
   "cell_type": "code",
   "execution_count": null,
   "id": "420a75bb",
   "metadata": {},
   "outputs": [],
   "source": []
  },
  {
   "cell_type": "markdown",
   "id": "a35234b4",
   "metadata": {},
   "source": [
    "- 행 삭제 : 특정 행을 삭제하려면 drop() 메서드를 사용하고, 삭제 할 인덱스를 전달한다."
   ]
  },
  {
   "cell_type": "code",
   "execution_count": null,
   "id": "c82e416d",
   "metadata": {},
   "outputs": [],
   "source": []
  },
  {
   "cell_type": "markdown",
   "id": "7c388443",
   "metadata": {},
   "source": [
    "### 기초적인 데이터 수정 및 조작"
   ]
  },
  {
   "cell_type": "code",
   "execution_count": null,
   "id": "5aca6715",
   "metadata": {},
   "outputs": [],
   "source": [
    "# df 초기화 \n",
    "data = {\n",
    "    'Name': ['Alice', 'Bob', 'Charlie', 'David'],\n",
    "    'Age': [25, 30, 35, 40],\n",
    "    'City': ['New York', 'Los Angeles', 'Chicago', 'Houston']\n",
    "}\n",
    "\n",
    "df = pd.DataFrame(data)\n",
    "\n",
    "df"
   ]
  },
  {
   "cell_type": "markdown",
   "id": "9dc58a92",
   "metadata": {},
   "source": [
    "- 데이터 수정 : 특정 값을 변경하려면 인덱스와 열을 지정하고 값을 할당한다."
   ]
  },
  {
   "cell_type": "code",
   "execution_count": null,
   "id": "0e39e5fd",
   "metadata": {},
   "outputs": [],
   "source": [
    "# 'Age' 열의 값을 수정\n"
   ]
  },
  {
   "cell_type": "markdown",
   "id": "827f963e",
   "metadata": {},
   "source": [
    "- 데이터 타입 변경 : 데이터의 타입을 변경하려면 astype() 메서드를 활용한다."
   ]
  },
  {
   "cell_type": "code",
   "execution_count": null,
   "id": "fa38b33e",
   "metadata": {},
   "outputs": [],
   "source": [
    "# 변환하기전 기존 데이터 타입 확인\n"
   ]
  },
  {
   "cell_type": "code",
   "execution_count": null,
   "id": "47bf47ea",
   "metadata": {},
   "outputs": [],
   "source": []
  },
  {
   "cell_type": "code",
   "execution_count": null,
   "id": "05079995",
   "metadata": {},
   "outputs": [],
   "source": []
  }
 ],
 "metadata": {
  "kernelspec": {
   "display_name": "bear",
   "language": "python",
   "name": "python3"
  },
  "language_info": {
   "codemirror_mode": {
    "name": "ipython",
    "version": 3
   },
   "file_extension": ".py",
   "mimetype": "text/x-python",
   "name": "python",
   "nbconvert_exporter": "python",
   "pygments_lexer": "ipython3",
   "version": "3.12.11"
  }
 },
 "nbformat": 4,
 "nbformat_minor": 5
}
