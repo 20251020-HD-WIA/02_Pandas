{
 "cells": [
  {
   "cell_type": "code",
   "execution_count": null,
   "id": "9915aff3",
   "metadata": {},
   "outputs": [],
   "source": [
    "import pandas as pd\n",
    "df = pd.read_csv('data/customers3.csv', index_col='고객ID')\n",
    "df"
   ]
  },
  {
   "cell_type": "markdown",
   "id": "2a700fb9",
   "metadata": {},
   "source": [
    "### 데이터 수정"
   ]
  },
  {
   "cell_type": "markdown",
   "id": "d1aef281",
   "metadata": {},
   "source": [
    "**replace()**\n",
    "- 데이터 프레임이나 시리즈의 특정 값을 다른 값으로 바꿔주는 기능"
   ]
  },
  {
   "cell_type": "code",
   "execution_count": null,
   "id": "d4061fa9",
   "metadata": {},
   "outputs": [],
   "source": []
  },
  {
   "cell_type": "code",
   "execution_count": null,
   "id": "fffeb8a1",
   "metadata": {},
   "outputs": [],
   "source": []
  },
  {
   "cell_type": "code",
   "execution_count": null,
   "id": "6b5b2ce6",
   "metadata": {},
   "outputs": [],
   "source": []
  },
  {
   "cell_type": "code",
   "execution_count": null,
   "id": "36697974",
   "metadata": {},
   "outputs": [],
   "source": []
  },
  {
   "cell_type": "code",
   "execution_count": null,
   "id": "2253d4f6",
   "metadata": {},
   "outputs": [],
   "source": []
  },
  {
   "cell_type": "markdown",
   "id": "aaaaabf5",
   "metadata": {},
   "source": [
    "거주도시를 ~~시까지 붙이고싶다면?"
   ]
  },
  {
   "cell_type": "code",
   "execution_count": null,
   "id": "9341157b",
   "metadata": {},
   "outputs": [],
   "source": []
  },
  {
   "cell_type": "markdown",
   "id": "d9e263ef",
   "metadata": {},
   "source": [
    "고객만족도와 재구매의사 점수의 총점을 보고싶다면?"
   ]
  },
  {
   "cell_type": "code",
   "execution_count": null,
   "id": "7245e67c",
   "metadata": {},
   "outputs": [],
   "source": []
  },
  {
   "cell_type": "code",
   "execution_count": null,
   "id": "fce23f94",
   "metadata": {},
   "outputs": [],
   "source": []
  },
  {
   "cell_type": "markdown",
   "id": "3e8bab39",
   "metadata": {},
   "source": [
    "Column 삭제"
   ]
  },
  {
   "cell_type": "code",
   "execution_count": null,
   "id": "efcca345",
   "metadata": {},
   "outputs": [],
   "source": []
  },
  {
   "cell_type": "markdown",
   "id": "08263e97",
   "metadata": {},
   "source": [
    "Row 삭제"
   ]
  },
  {
   "cell_type": "code",
   "execution_count": null,
   "id": "34ee4aab",
   "metadata": {},
   "outputs": [],
   "source": []
  },
  {
   "cell_type": "markdown",
   "id": "0e7aad33",
   "metadata": {},
   "source": [
    "Cell 수정"
   ]
  },
  {
   "cell_type": "code",
   "execution_count": null,
   "id": "ab8b3b73",
   "metadata": {},
   "outputs": [],
   "source": []
  },
  {
   "cell_type": "markdown",
   "id": "ec468ecd",
   "metadata": {},
   "source": [
    "박지성의 주요관심사를 SPORTS로 변경해보자"
   ]
  },
  {
   "cell_type": "code",
   "execution_count": null,
   "id": "d588819a",
   "metadata": {},
   "outputs": [],
   "source": []
  },
  {
   "cell_type": "markdown",
   "id": "8ed5649e",
   "metadata": {},
   "source": [
    "한유진의 거주도시를 부천시로, 주요관심사를 FASHION으로 수정해보자"
   ]
  },
  {
   "cell_type": "code",
   "execution_count": null,
   "id": "34bf3359",
   "metadata": {},
   "outputs": [],
   "source": []
  }
 ],
 "metadata": {
  "kernelspec": {
   "display_name": "Python 3",
   "language": "python",
   "name": "python3"
  },
  "language_info": {
   "codemirror_mode": {
    "name": "ipython",
    "version": 3
   },
   "file_extension": ".py",
   "mimetype": "text/x-python",
   "name": "python",
   "nbconvert_exporter": "python",
   "pygments_lexer": "ipython3",
   "version": "3.14.0"
  }
 },
 "nbformat": 4,
 "nbformat_minor": 5
}
