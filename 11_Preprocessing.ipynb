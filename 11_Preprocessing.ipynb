{
 "cells": [
  {
   "cell_type": "markdown",
   "id": "d6ab244e",
   "metadata": {},
   "source": [
    "# 11. 데이터 전처리\n",
    "---\n",
    "## 결측값 처리\n",
    "- 데이터 분석에서 결측값은 종종 문제를 발생시킬 수 있으므로 미리 처리해야한다.\n",
    "- pandas는 결측값을 처리하기 위한 여러 방법을 제공한다."
   ]
  },
  {
   "cell_type": "code",
   "execution_count": null,
   "id": "d99263b9",
   "metadata": {},
   "outputs": [],
   "source": [
    "import pandas as pd\n",
    "df = pd.read_csv('data/customers3.csv', index_col='고객ID')\n",
    "df"
   ]
  },
  {
   "cell_type": "markdown",
   "id": "88c4c33e",
   "metadata": {},
   "source": [
    "**결측값 제거 `dropna()`**\n",
    "- 결측치(NaN, Not a Number)를 행또는 열 기준으로 제거해주는 기능\n",
    "- 원본에는 영향을 끼치지 않고, 새로운 DataFrame이 반환된다."
   ]
  },
  {
   "cell_type": "code",
   "execution_count": null,
   "id": "df9a8833",
   "metadata": {},
   "outputs": [],
   "source": []
  },
  {
   "cell_type": "markdown",
   "id": "b7eb78a1",
   "metadata": {},
   "source": [
    "**how**\n",
    "- 행이나 열의 값들이 얼마나 결측치여야 제거할지 결정\n",
    "- 행기준(axis=0)이 기본값으로 조건에 부합시 그행을 제거함.\n",
    "    - any : 하나라도 NaN이면 제거 (기본값)\n",
    "    - all : 전부 NaN이어야 제거"
   ]
  },
  {
   "cell_type": "code",
   "execution_count": null,
   "id": "f2a7aefe",
   "metadata": {},
   "outputs": [],
   "source": []
  },
  {
   "cell_type": "code",
   "execution_count": null,
   "id": "7567176f",
   "metadata": {},
   "outputs": [],
   "source": []
  },
  {
   "cell_type": "code",
   "execution_count": null,
   "id": "d9564ee7",
   "metadata": {},
   "outputs": [],
   "source": []
  },
  {
   "cell_type": "markdown",
   "id": "5e2c4195",
   "metadata": {},
   "source": [
    "**subset**\n",
    "- 결측치를 검사할 특정 열을 지정한다. 지정된 열에 결측치가 있을때만 행을 제거한다.''"
   ]
  },
  {
   "cell_type": "code",
   "execution_count": null,
   "id": "dcee4297",
   "metadata": {},
   "outputs": [],
   "source": []
  },
  {
   "cell_type": "markdown",
   "id": "f15928bf",
   "metadata": {},
   "source": [
    "**결측값 대체 `fillna()`**\n",
    "- 결측치(NaN, Not a Number)를 특정 값이나 방식으로 채워주는 기능\n",
    "- 원본에는 영향을 끼치지 않고, 새로운 Data Frame이 반환된다."
   ]
  },
  {
   "cell_type": "code",
   "execution_count": null,
   "id": "4f0fda61",
   "metadata": {},
   "outputs": [],
   "source": []
  },
  {
   "cell_type": "code",
   "execution_count": null,
   "id": "a55a7b27",
   "metadata": {},
   "outputs": [],
   "source": []
  },
  {
   "cell_type": "code",
   "execution_count": null,
   "id": "ee46f5ab",
   "metadata": {},
   "outputs": [],
   "source": []
  },
  {
   "cell_type": "code",
   "execution_count": null,
   "id": "30426623",
   "metadata": {},
   "outputs": [],
   "source": []
  },
  {
   "cell_type": "markdown",
   "id": "bee8bd28",
   "metadata": {},
   "source": [
    "### 중복 데이터 처리\n",
    "**중복값 확인 `duplicated()`**"
   ]
  },
  {
   "cell_type": "code",
   "execution_count": null,
   "id": "2af9a54f",
   "metadata": {},
   "outputs": [],
   "source": []
  },
  {
   "cell_type": "markdown",
   "id": "ec54042b",
   "metadata": {},
   "source": [
    "**중복값 제거 `drop_duplicates()`**"
   ]
  },
  {
   "cell_type": "code",
   "execution_count": null,
   "id": "c0bcddc5",
   "metadata": {},
   "outputs": [],
   "source": []
  },
  {
   "cell_type": "markdown",
   "id": "29bbaaf1",
   "metadata": {},
   "source": [
    "### 데이터 정렬"
   ]
  },
  {
   "cell_type": "markdown",
   "id": "76d75f14",
   "metadata": {},
   "source": [
    "**값을 기준으로 정렬 `sort_values()`**\n",
    "- 특정 열의 값을 기준으로 데이터를 정렬할 수 있다.\n",
    "- 기본적으로 오름차순으로 정렬되며, 내림차순은 accending=False 옵션을 사용한다."
   ]
  },
  {
   "cell_type": "code",
   "execution_count": null,
   "id": "10674f8a",
   "metadata": {},
   "outputs": [],
   "source": []
  },
  {
   "cell_type": "code",
   "execution_count": null,
   "id": "40c43962",
   "metadata": {},
   "outputs": [],
   "source": []
  },
  {
   "cell_type": "markdown",
   "id": "8d5a5a63",
   "metadata": {},
   "source": [
    "**인덱스를 기준으로 정렬 `sort_index()`**"
   ]
  },
  {
   "cell_type": "code",
   "execution_count": null,
   "id": "ffefeb43",
   "metadata": {},
   "outputs": [],
   "source": []
  }
 ],
 "metadata": {
  "kernelspec": {
   "display_name": "Python 3",
   "language": "python",
   "name": "python3"
  },
  "language_info": {
   "codemirror_mode": {
    "name": "ipython",
    "version": 3
   },
   "file_extension": ".py",
   "mimetype": "text/x-python",
   "name": "python",
   "nbconvert_exporter": "python",
   "pygments_lexer": "ipython3",
   "version": "3.14.0"
  }
 },
 "nbformat": 4,
 "nbformat_minor": 5
}
