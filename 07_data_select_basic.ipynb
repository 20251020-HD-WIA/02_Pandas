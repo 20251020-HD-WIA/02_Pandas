{
 "cells": [
  {
   "cell_type": "markdown",
   "id": "c99bb2cd",
   "metadata": {},
   "source": [
    "# 7. 데이터 선택\n",
    "---"
   ]
  },
  {
   "cell_type": "code",
   "execution_count": null,
   "id": "821df7b5",
   "metadata": {},
   "outputs": [],
   "source": [
    "import pandas as pd\n",
    "df = pd.read_csv('data/customers3.csv', index_col='고객ID')\n",
    "df"
   ]
  },
  {
   "cell_type": "code",
   "execution_count": null,
   "id": "fea37bf3",
   "metadata": {},
   "outputs": [],
   "source": [
    "# 복습할겸 한번 데이터 선택을 어떻게 했었는지 확인해봅시다.\n",
    "df['거주도시']"
   ]
  },
  {
   "cell_type": "code",
   "execution_count": null,
   "id": "ab5922cd",
   "metadata": {},
   "outputs": [],
   "source": [
    "df[['고객명','거주도시']]"
   ]
  },
  {
   "cell_type": "markdown",
   "id": "8570c635",
   "metadata": {},
   "source": [
    "### Column 선택"
   ]
  },
  {
   "cell_type": "code",
   "execution_count": null,
   "id": "bd7766ce",
   "metadata": {},
   "outputs": [],
   "source": [
    "df.columns[0]"
   ]
  },
  {
   "cell_type": "code",
   "execution_count": null,
   "id": "64da7641",
   "metadata": {},
   "outputs": [],
   "source": [
    "df.columns[2]"
   ]
  },
  {
   "cell_type": "markdown",
   "id": "444cbf27",
   "metadata": {},
   "source": [
    "- 첫번째 컬럼 데이터 조회하기"
   ]
  },
  {
   "cell_type": "code",
   "execution_count": null,
   "id": "398684ae",
   "metadata": {},
   "outputs": [],
   "source": [
    "# 활용\n",
    "df[df.columns[0]] # df['고객명'] 과 동일한 동작"
   ]
  },
  {
   "cell_type": "markdown",
   "id": "2e8d9fcc",
   "metadata": {},
   "source": [
    "- 마지막 컬럼 데이터 조회하기"
   ]
  },
  {
   "cell_type": "code",
   "execution_count": null,
   "id": "1e467067",
   "metadata": {},
   "outputs": [],
   "source": [
    "df[df.columns[-1]] # 재구매의사"
   ]
  },
  {
   "cell_type": "markdown",
   "id": "94fc0507",
   "metadata": {},
   "source": [
    "### 슬라이싱\n",
    "- 데이터프레임이나 시리즈에서 원하는 범위의 데이터(행 또는 열)를 잘라내는 기능\n",
    "- 데이터를 특정 부분만 보거나 수정할 때 사용하며, 콜론(:)을 사용해 범위를 지정합니다.\n",
    "\n",
    "> **파이썬 슬라이스 문법**\n",
    "> - 기본사용법 `data[start:end:step]`\n",
    ">   - start(시작위치) : 데이터를 자르기 시작할 인덱스\n",
    ">   - end(끝 위치) : 데이터 자르기를 멈출 인덱스 (해당위치 데이터 포함X)\n",
    ">   - step(간격) : 데이터를 가져올 간격 지정 (생략시 1칸씩 가져옴)"
   ]
  },
  {
   "cell_type": "code",
   "execution_count": null,
   "id": "2f9bb0b0",
   "metadata": {},
   "outputs": [],
   "source": [
    "# 원본 확인해보기\n",
    "df"
   ]
  },
  {
   "cell_type": "code",
   "execution_count": null,
   "id": "ec7b75f4",
   "metadata": {},
   "outputs": [],
   "source": [
    "df['고객명'][0:5] # 0~4번째 데이터"
   ]
  },
  {
   "cell_type": "code",
   "execution_count": null,
   "id": "05c5cc85",
   "metadata": {},
   "outputs": [],
   "source": [
    "df[['고객명','나이']][:3] # 처음 3명의 이름, 키 정보를 가져옴"
   ]
  },
  {
   "cell_type": "code",
   "execution_count": null,
   "id": "aaf244db",
   "metadata": {},
   "outputs": [],
   "source": [
    "df[3:] # 3번째 행부터 끝까지 가져옴"
   ]
  }
 ],
 "metadata": {
  "kernelspec": {
   "display_name": "Python 3",
   "language": "python",
   "name": "python3"
  },
  "language_info": {
   "codemirror_mode": {
    "name": "ipython",
    "version": 3
   },
   "file_extension": ".py",
   "mimetype": "text/x-python",
   "name": "python",
   "nbconvert_exporter": "python",
   "pygments_lexer": "ipython3",
   "version": "3.14.0"
  }
 },
 "nbformat": 4,
 "nbformat_minor": 5
}
